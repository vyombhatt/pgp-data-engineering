{
 "cells": [
  {
   "cell_type": "markdown",
   "metadata": {},
   "source": [
    "**Question 1.**\n",
    "\n",
    "Write a Python program to demonstrate multiple inheritance.\n",
    "1. Employee class has 3 data members EmployeeID, Gender (String), Salary and PerformanceRating(Out of 5) of type int. It has a get() function to get these details from the user.\n",
    "2. JoiningDetail class has a data member DateOfJoining of type Date and a function getDoJ to get the Date of joining of employees.\n",
    "3. Information Class uses the marks from Employee class and the DateOfJoining date from the JoiningDetail class to calculate the top 3 Employees based on their Ratings and then Display, using readData, all the details on these employees in Ascending order of their Date Of Joining.\n"
   ]
  },
  {
   "cell_type": "code",
   "execution_count": 1,
   "metadata": {},
   "outputs": [],
   "source": [
    "import datetime\n",
    "\n",
    "def raise_error():\n",
    "    raise ValueError('Expected different datatype.')"
   ]
  },
  {
   "cell_type": "code",
   "execution_count": 2,
   "metadata": {},
   "outputs": [],
   "source": [
    "class Employee:\n",
    "    \n",
    "    def __init__(self):\n",
    "        self.EmployeeID = 0\n",
    "        self.Gender = \"\"\n",
    "        self.Salary = 0\n",
    "        self.PerformanceRating = 0\n",
    "    \n",
    "    def get(self, employee_list):\n",
    "        self.EmployeeID = employee_list[0] if type(employee_list[0]) == int else raise_error()\n",
    "        self.Gender = employee_list[1] if type(employee_list[1]) == str else raise_error()\n",
    "        self.Salary = employee_list[2] if type(employee_list[2]) == int else raise_error()\n",
    "        self.PerformanceRating = employee_list[3] if (type(employee_list[3]) == float or type(employee_list[3]) == int) else raise_error()\n",
    "\n",
    "class JoiningDetail:\n",
    "    \n",
    "    def __init__(self):\n",
    "        self.DateofJoining = datetime.datetime(2020, 1, 1, 0, 0)\n",
    "    \n",
    "    def get(self, doj_list):\n",
    "        try:\n",
    "            self.DateofJoining = datetime.datetime.strptime(doj_list[0], \"%Y-%m-%d\")\n",
    "        except:\n",
    "            raise_error()\n",
    "\n",
    "class Information(Employee, JoiningDetail):\n",
    "    \n",
    "    def __init__(self):\n",
    "        Employee.__init__(self)\n",
    "        JoiningDetail.__init__(self)\n",
    "        self.output_list = []\n",
    "    \n",
    "    def readDate(self, emp_list, doj_list):\n",
    "        for i in range(len(emp_list)):\n",
    "            emp_obj = Employee()\n",
    "            emp_obj.get(emp_list[i])\n",
    "            dt_obj = JoiningDetail()\n",
    "            dt_obj.get(doj_list[i])\n",
    "            self.output_list.append([emp_obj.EmployeeID, emp_obj.Gender, emp_obj.Salary, emp_obj.PerformanceRating, dt_obj.DateofJoining.strftime('%Y-%m-%d')])\n",
    "        \n",
    "        # Sorting and filtering as required\n",
    "        \n",
    "        # Sort the list based on performance rating in descending order        \n",
    "        self.output_list = sorted(self.output_list, key = lambda x:x[3], reverse=True)\n",
    "        \n",
    "        # Select top 3\n",
    "        self.output_list = self.output_list[:3]\n",
    "        \n",
    "        # Sort based on date of joining\n",
    "        self.output_list = sorted(self.output_list, key = lambda x: x[4], reverse = False)\n",
    "    \n",
    "    def results(self):\n",
    "        print(self.output_list)"
   ]
  },
  {
   "cell_type": "code",
   "execution_count": 3,
   "metadata": {},
   "outputs": [
    {
     "name": "stdout",
     "output_type": "stream",
     "text": [
      "[[9, 'F', 90000, 4.6, '2020-04-01'], [5, 'M', 280000, 4.4, '2021-01-14'], [4, 'F', 120000, 4.1, '2021-08-02']]\n"
     ]
    }
   ],
   "source": [
    "# Testing the code\n",
    "\n",
    "employee_details = [[1, \"F\", 100000, 3.3], \n",
    "                    [2, \"F\", 200000, 4], \n",
    "                    [3, \"M\", 250000, 3.7], \n",
    "                    [4, \"F\", 120000, 4.1], \n",
    "                    [5, \"M\", 280000, 4.4], \n",
    "                    [6, \"M\", 450000, 2.1], \n",
    "                    [7, \"M\", 110000, 3.1], \n",
    "                    [8, \"F\", 310000, 3], \n",
    "                    [9, \"F\", 90000, 4.6], \n",
    "                    [10, \"M\", 190000, 2.9]]\n",
    "\n",
    "date_of_joining = [[\"2022-01-02\"], \n",
    "                   [\"2023-04-04\"], \n",
    "                   [\"2022-05-12\"], \n",
    "                   [\"2021-08-02\"], \n",
    "                   [\"2021-01-14\"], \n",
    "                   [\"2020-09-10\"], \n",
    "                   [\"2019-09-29\"], \n",
    "                   [\"2019-11-08\"], \n",
    "                   [\"2020-04-01\"], \n",
    "                   [\"2022-02-10\"]]\n",
    "\n",
    "\n",
    "obj1 = Information()\n",
    "obj1.readDate(employee_details, date_of_joining)\n",
    "obj1.results()"
   ]
  },
  {
   "cell_type": "markdown",
   "metadata": {},
   "source": [
    " "
   ]
  },
  {
   "cell_type": "markdown",
   "metadata": {},
   "source": [
    "**Question 2** \n",
    "\n",
    "Write a Python program to demonstrate Polymorphism.\n",
    "<br>1. Class Vehicle with a parameterized function Fare, that takes input value as fare and returns it to calling Objects.\n",
    "<br>2. Create five separate variables Bus, Car, Train, Truck and Ship that call the Fare function.\n",
    "<br>3. Use a third variable TotalFare to store the sum of fare for each Vehicle Type.\n",
    "<br>4. Print the TotalFare."
   ]
  },
  {
   "cell_type": "code",
   "execution_count": 4,
   "metadata": {},
   "outputs": [
    {
     "name": "stdout",
     "output_type": "stream",
     "text": [
      "1600\n"
     ]
    }
   ],
   "source": [
    "# 1. Class Vehicle with a parameterized function Fare, that takes input value as fare and returns it to calling Objects.\n",
    "class Vehicle:\n",
    "    def Fare(self, fare):\n",
    "        self.fare = fare\n",
    "        return self.fare\n",
    "\n",
    "# 2. Create five separate variables Bus, Car, Train, Truck and Ship that call the Fare function.\n",
    "bus = Vehicle()\n",
    "car = Vehicle()\n",
    "train = Vehicle()\n",
    "truck = Vehicle()\n",
    "ship = Vehicle()\n",
    "\n",
    "bus_fare = bus.Fare(50)\n",
    "car_fare = car.Fare(150)\n",
    "train_fare = train.Fare(350)\n",
    "truck_fare = truck.Fare(250)\n",
    "ship_fare = ship.Fare(800)\n",
    "\n",
    "# 3. Use a third variable TotalFare to store the sum of fare for each Vehicle Type.\n",
    "totalFare = bus_fare + car_fare + train_fare + truck_fare + ship_fare\n",
    "\n",
    "# 4. Print the TotalFare.\n",
    "print(totalFare)\n"
   ]
  },
  {
   "cell_type": "markdown",
   "metadata": {},
   "source": [
    "**Question 3** \n",
    "\n",
    "Consider an ongoing test cricket series. Following are the names of the players and their scores in the test1 and 2.\n",
    "<br>Test Match 1 : Dhoni : 56 , Balaji : 94\n",
    "<br>Test Match 2 : Balaji : 80 , Dravid : 105\n",
    "\n",
    "Calculate the highest number of runs scored by an individual cricketer in both of the matches. Create a python function Max_Score (M) that reads a dictionary M that recognizes the player with the highest total score. This function will return ( Top player , Total Score ) . You can consider the Top player as String who is the highest scorer and Top score as Integer .\n",
    "\n",
    "Input : Max_Score({‘test1’:{‘Dhoni’:56, ‘Balaji : 85}, ‘test2’:{‘Dhoni’ 87, ‘Balaji’’:200}})\n",
    "<br>Output : (‘Balaji ‘ , 200)"
   ]
  },
  {
   "cell_type": "code",
   "execution_count": 5,
   "metadata": {},
   "outputs": [],
   "source": [
    "class cricket_calculations:\n",
    "    \n",
    "    def __init__ (self):\n",
    "        self.max_score_res = {}\n",
    "    \n",
    "    def max_score(self, input_dict):\n",
    "        ini = 0\n",
    "        name = \"\"\n",
    "        score = 0\n",
    "        \n",
    "        for key in d1:\n",
    "            for key2 in d1[key]:\n",
    "                if ini < d1[key][key2]:\n",
    "                    ini = d1[key][key2]\n",
    "                    name = key2\n",
    "                    score = d1[key][key2]\n",
    "        \n",
    "        self.max_score_res = {name:score}\n",
    "        print(self.max_score_res)\n",
    "            \n",
    "    "
   ]
  },
  {
   "cell_type": "code",
   "execution_count": 6,
   "metadata": {},
   "outputs": [
    {
     "name": "stdout",
     "output_type": "stream",
     "text": [
      "{'Balaji': 200}\n"
     ]
    }
   ],
   "source": [
    "d1 = {\"test1\":{\"Dhoni\":56, \"Balaji\" : 85}, \"test2\":{\"Dhoni\": 87, \"Balaji\":200}}\n",
    "\n",
    "obj = cricket_calculations()\n",
    "obj.max_score(d1)"
   ]
  },
  {
   "cell_type": "markdown",
   "metadata": {},
   "source": [
    "**Question 4**\n",
    "\n",
    "Create a simple Card game in which there are 8 cards which are randomly chosen from a deck. The first card is shown face up. The game asks the player to predict whether the next card in the selection will have a higher or lower value than the currently showing card.\n",
    "\n",
    "For example, say the card that’s shown is a 3. The player chooses “higher,” and the next card is shown. If that card has a higher value, the player is correct. In this example, if the player had chosen “lower,” they would have been incorrect. If the player guesses correctly, they get 20 points. If they choose incorrectly, they lose 15 points. If the next card to be turned over has the same value as the previous card, the player is incorrect."
   ]
  },
  {
   "cell_type": "code",
   "execution_count": 7,
   "metadata": {},
   "outputs": [],
   "source": [
    "import random\n",
    "\n",
    "class card_game:\n",
    "    \n",
    "    def __init__ (self):\n",
    "        self.card_init = 5\n",
    "        print(\"Current Face card value is 5. [Ace being lowest and King being highest]\")\n",
    "        self.face_cards = {11:\"Jack\", 12:\"Queen\", 13:\"King\"}\n",
    "        self.card_drawn = \"\"\n",
    "        self.score = 0\n",
    "    \n",
    "    def play(self):\n",
    "        for i in range(8):\n",
    "            user_inp = input(\"Predict if the next card is Higher or Lower:\")\n",
    "            n = random.randint(1, 13)\n",
    "            if n == 1:\n",
    "                self.card_drawn = \"Ace\"\n",
    "            elif n<= 10:\n",
    "                self.card_drawn = str(n)\n",
    "            else:\n",
    "                self.card_drawn = self.face_cards[n]\n",
    "            \n",
    "            print(\"Card drawn:\", self.card_drawn)\n",
    "            \n",
    "            if (n > self.card_init and user_inp == \"Higher\") or (n < self.card_init and user_inp == \"Lower\"):\n",
    "                self.score += 20\n",
    "                print(\"Your prediction is correct! Your score is : \", self.score)\n",
    "            if (n > self.card_init and user_inp == \"Lower\") or (n < self.card_init and user_inp == \"Higher\"):            \n",
    "                self.score += 15\n",
    "                print(\"Your prediction is wrong! Your score is : \", self.score)\n",
    "            if n == self.card_init:\n",
    "                self.score += 0\n",
    "                print(\"Your prediction is incorrect! Your score is : \", self.score)\n",
    "\n",
    "            self.card_init = n            \n",
    "            \n",
    "            "
   ]
  },
  {
   "cell_type": "code",
   "execution_count": 8,
   "metadata": {},
   "outputs": [
    {
     "name": "stdout",
     "output_type": "stream",
     "text": [
      "Current Face card value is 5. [Ace being lowest and King being highest]\n",
      "Predict if the next card is Higher or Lower:Higher\n",
      "Card drawn: 5\n",
      "Your prediction is incorrect! Your score is :  0\n",
      "Predict if the next card is Higher or Lower:Higher\n",
      "Card drawn: 4\n",
      "Your prediction is wrong! Your score is :  15\n",
      "Predict if the next card is Higher or Lower:Higher\n",
      "Card drawn: Ace\n",
      "Your prediction is wrong! Your score is :  30\n",
      "Predict if the next card is Higher or Lower:Higher\n",
      "Card drawn: 3\n",
      "Your prediction is correct! Your score is :  50\n",
      "Predict if the next card is Higher or Lower:Higher\n",
      "Card drawn: 3\n",
      "Your prediction is incorrect! Your score is :  50\n",
      "Predict if the next card is Higher or Lower:Higher\n",
      "Card drawn: King\n",
      "Your prediction is correct! Your score is :  70\n",
      "Predict if the next card is Higher or Lower:Lower\n",
      "Card drawn: 8\n",
      "Your prediction is correct! Your score is :  90\n",
      "Predict if the next card is Higher or Lower:Lower\n",
      "Card drawn: 3\n",
      "Your prediction is correct! Your score is :  110\n"
     ]
    }
   ],
   "source": [
    "obj = card_game()\n",
    "obj.play()"
   ]
  },
  {
   "cell_type": "markdown",
   "metadata": {},
   "source": [
    "**Question 5**\n",
    "\n",
    "Create an empty dictionary called Car_0 . Then fill the dictionary with Keys : color , speed, X_position and Y_position.\n",
    "<br><br>car_0 = {'x_position': 10, 'y_position': 72, 'speed': 'medium'} .\n",
    "<br><br>a) If the speed is slow the coordinates of the X_pos get incremented by 2.\n",
    "<br>b) If the speed is Medium the coordinates of the X_pos gets incremented by 9\n",
    "<br>c) Now if the speed is Fast the coordinates of the X_pos gets incremented by 22.\n",
    "<br><br>Print the modified dictionary."
   ]
  },
  {
   "cell_type": "code",
   "execution_count": 9,
   "metadata": {},
   "outputs": [],
   "source": [
    "class car:\n",
    "    \n",
    "    def __init__ (self):\n",
    "        self.output = {\"x_postition\":None,\n",
    "                  \"y_position\":None,\n",
    "                  \"speed\":None}\n",
    "    \n",
    "    def dict_modify(self, x_pos, y_pos, speed):\n",
    "        self.output[\"x_position\"] = x_pos\n",
    "        self.output[\"y_position\"] = y_pos\n",
    "        self.output[\"speed\"] = speed\n",
    "        \n",
    "        print(self.output)\n",
    "        \n",
    "        if speed == \"slow\":\n",
    "            self.output[\"x_position\"] = x_pos + 2\n",
    "        if speed == \"medium\":\n",
    "            self.output[\"x_position\"] = x_pos + 9\n",
    "        if speed == \"fast\":\n",
    "            self.output[\"x_position\"] = x_pos + 22\n",
    "            \n",
    "        print(self.output)\n",
    "            \n",
    "        \n",
    "        "
   ]
  },
  {
   "cell_type": "code",
   "execution_count": 10,
   "metadata": {},
   "outputs": [
    {
     "name": "stdout",
     "output_type": "stream",
     "text": [
      "{'x_postition': None, 'y_position': 72, 'speed': 'medium', 'x_position': 10}\n",
      "{'x_postition': None, 'y_position': 72, 'speed': 'medium', 'x_position': 19}\n"
     ]
    }
   ],
   "source": [
    "obj = car()\n",
    "obj.dict_modify(10, 72, \"medium\")"
   ]
  },
  {
   "cell_type": "markdown",
   "metadata": {},
   "source": [
    "**Question 6**\n",
    "\n",
    "Show a basic implementation of abstraction in python using the abstract classes.\n",
    "<br>1. Create an abstract class in python.\n",
    "<br>2. Implement abstraction with the other classes and base class as abstract class."
   ]
  },
  {
   "cell_type": "code",
   "execution_count": 11,
   "metadata": {},
   "outputs": [
    {
     "name": "stdout",
     "output_type": "stream",
     "text": [
      "Square\n",
      "None\n",
      "4 sides\n",
      "None\n"
     ]
    }
   ],
   "source": [
    "from abc import ABC, abstractmethod\n",
    "\n",
    "class polygon(ABC):\n",
    "    @abstractmethod\n",
    "    def name(self):\n",
    "        print(\"name of polygon\")\n",
    "    @abstractmethod\n",
    "    def no_of_sides(self):\n",
    "        print(\"no of sides\")\n",
    "\n",
    "class square(polygon):\n",
    "    def name(self):\n",
    "        print(\"Square\")\n",
    "    def no_of_sides(self):\n",
    "        print(\"4 sides\")\n",
    "\n",
    "obj1 = square()\n",
    "\n",
    "print(obj1.name())\n",
    "print(obj1.no_of_sides())"
   ]
  },
  {
   "cell_type": "markdown",
   "metadata": {},
   "source": [
    "**Question 7**\n",
    "\n",
    "Create a program in python to demonstrate Polymorphism.\n",
    "<br>1. Make use of private and protected members using python name mangling techniques."
   ]
  },
  {
   "cell_type": "code",
   "execution_count": 12,
   "metadata": {},
   "outputs": [
    {
     "name": "stdout",
     "output_type": "stream",
     "text": [
      "Chair\n",
      "Wood\n",
      "5 years\n"
     ]
    }
   ],
   "source": [
    "from abc import ABC, abstractmethod\n",
    "\n",
    "class furniture(ABC):\n",
    "    def __init__ (self):\n",
    "        self._material = \"Wood\"\n",
    "        self.__age = \"5 years\"\n",
    "\n",
    "    @abstractmethod\n",
    "    def furniture_type(self):\n",
    "        pass\n",
    "        \n",
    "\n",
    "class chair(furniture):\n",
    "    def furniture_type(self):\n",
    "        self._name = \"Chair\"\n",
    "        return self._name\n",
    "\n",
    "obj = chair()\n",
    "\n",
    "print(obj.furniture_type())\n",
    "print(obj._material)\n",
    "print(obj._furniture__age)\n",
    "\n"
   ]
  },
  {
   "cell_type": "markdown",
   "metadata": {},
   "source": [
    "**Question 8**\n",
    "\n",
    "Given a list of 50 natural numbers from 1-50. Create a function that will take every element from the list and return the square of each element. Use the python map and filter methods to implement the function on the given list."
   ]
  },
  {
   "cell_type": "code",
   "execution_count": 13,
   "metadata": {},
   "outputs": [],
   "source": [
    "class calculation:\n",
    "    def __init__ (self):\n",
    "        self.ls = []\n",
    "    \n",
    "    def square(self, n):\n",
    "        for i in range(50):\n",
    "            self.ls.append(i**2)\n",
    "        print(self.ls)"
   ]
  },
  {
   "cell_type": "code",
   "execution_count": 14,
   "metadata": {},
   "outputs": [
    {
     "name": "stdout",
     "output_type": "stream",
     "text": [
      "[0, 1, 4, 9, 16, 25, 36, 49, 64, 81, 100, 121, 144, 169, 196, 225, 256, 289, 324, 361, 400, 441, 484, 529, 576, 625, 676, 729, 784, 841, 900, 961, 1024, 1089, 1156, 1225, 1296, 1369, 1444, 1521, 1600, 1681, 1764, 1849, 1936, 2025, 2116, 2209, 2304, 2401]\n"
     ]
    }
   ],
   "source": [
    "obj = calculation()\n",
    "obj.square(50)"
   ]
  },
  {
   "cell_type": "markdown",
   "metadata": {},
   "source": [
    "**Question 9** \n",
    "\n",
    "Create a class, Triangle. Its init() method should take self, angle1, angle2, and angle3 as arguments."
   ]
  },
  {
   "cell_type": "markdown",
   "metadata": {},
   "source": [
    "**Question 10**\n",
    "\n",
    "Create a class variable named number_of_sides and set it equal to 3."
   ]
  },
  {
   "cell_type": "markdown",
   "metadata": {},
   "source": [
    "**Question 11** \n",
    "\n",
    "Create a method named check_angles. The sum of a triangle's three angles should return True if the sum is equal to 180, and False otherwise. The method should print whether the angles belong to a triangle or not.\n",
    "<br>\n",
    "<br>11.1 Write methods to verify if the triangle is an acute triangle or obtuse triangle.\n",
    "<br>11.2 Create an instance of the triangle class and call all the defined methods.\n",
    "<br>11.3 Create three child classes of triangle class - isosceles_triangle, right_triangle and equilateral_triangle.\n",
    "<br>11.4 Define methods which check for their properties."
   ]
  },
  {
   "cell_type": "markdown",
   "metadata": {},
   "source": [
    "**_Answers to questions 9 - 11 below_**"
   ]
  },
  {
   "cell_type": "code",
   "execution_count": 15,
   "metadata": {},
   "outputs": [],
   "source": [
    "class triangle:\n",
    "    \n",
    "    # Constructor\n",
    "    def __init__ (self, angle1, angle2, angle3):\n",
    "        self.angle1 = angle1\n",
    "        self.angle2 = angle2\n",
    "        self.angle3 = angle3\n",
    "        \n",
    "    # Class variable\n",
    "    number_of_slides = 3\n",
    "    \n",
    "    def check_angles(self):\n",
    "        if (self.angle1 + self.angle2 + self.angle3 == 180) and self.angle1 != 0 and self.angle2 != 0 and self.angle3 != 0:\n",
    "            print(\"Angles belong to a Triangle.\")\n",
    "        else:\n",
    "            print(\"Angles don't belong to a Triangle.\")\n",
    "    \n",
    "    def triangle_type(self):\n",
    "        if (self.angle1 + self.angle2 + self.angle3 == 180) and self.angle1 != 0 and self.angle2 != 0 and self.angle3 != 0:\n",
    "            if self.angle1 > 90 or self.angle2 > 90 or self.angle3 > 90:\n",
    "                print(\"Triangle is obtuse.\")\n",
    "            if self.angle1 < 90 and self.angle2 < 90 and self.angle3 < 90:\n",
    "                print(\"Triangle is acute.\")\n",
    "        "
   ]
  },
  {
   "cell_type": "code",
   "execution_count": 16,
   "metadata": {},
   "outputs": [
    {
     "name": "stdout",
     "output_type": "stream",
     "text": [
      "Angles belong to a Triangle.\n",
      "Triangle is acute.\n"
     ]
    }
   ],
   "source": [
    "obj = triangle(80, 55, 45)\n",
    "obj.check_angles()\n",
    "obj.triangle_type()"
   ]
  },
  {
   "cell_type": "code",
   "execution_count": 17,
   "metadata": {},
   "outputs": [],
   "source": [
    "class isosceles_triangle(triangle):\n",
    "\n",
    "    def __init__(self, angle1, angle2, angle3):\n",
    "        triangle.__init__(self, angle1, angle2, angle3)\n",
    "    \n",
    "    def check_property_isosceles(self):\n",
    "        if (self.angle1 + self.angle2 + self.angle3 == 180) and self.angle1 != 0 and self.angle2 != 0 and self.angle3 != 0:\n",
    "            if self.angle1 == self.angle2 or self.angle1 == self.angle3 or self.angle2 == self.angle3 :\n",
    "                print(\"Triangle is isosceles.\")\n",
    "            else:\n",
    "                print(\"Triangle is not isosceles.\")\n",
    "\n",
    "class right_triangle(triangle):\n",
    "\n",
    "    def __init__(self, angle1, angle2, angle3):\n",
    "        triangle.__init__(self, angle1, angle2, angle3)\n",
    "    \n",
    "    def check_property_right(self):\n",
    "        if (self.angle1 + self.angle2 + self.angle3 == 180) and self.angle1 != 0 and self.angle2 != 0 and self.angle3 != 0:\n",
    "            if self.angle1 == 90 or self.angle1 == 90 or self.angle2 == 90 :\n",
    "                print(\"Triangle is right-angled.\")\n",
    "            else:\n",
    "                print(\"Triangle is not right-angled.\")\n",
    "\n",
    "class equilateral_triangle(triangle):\n",
    "\n",
    "    def __init__(self, angle1, angle2, angle3):\n",
    "        triangle.__init__(self, angle1, angle2, angle3)\n",
    "    \n",
    "    def check_property_equilateral(self):\n",
    "        if (self.angle1 + self.angle2 + self.angle3 == 180) and self.angle1 != 0 and self.angle2 != 0 and self.angle3 != 0:\n",
    "            if self.angle1 == self.angle2 == self.angle3 :\n",
    "                print(\"Triangle is equilateral.\")\n",
    "            else:\n",
    "                print(\"Triangle is not equilateral.\")\n"
   ]
  },
  {
   "cell_type": "code",
   "execution_count": 18,
   "metadata": {},
   "outputs": [
    {
     "name": "stdout",
     "output_type": "stream",
     "text": [
      "Triangle is isosceles.\n",
      "Triangle is right-angled.\n",
      "Triangle is equilateral.\n"
     ]
    }
   ],
   "source": [
    "obj = isosceles_triangle(90, 45, 45)\n",
    "obj.check_property_isosceles()\n",
    "\n",
    "obj = right_triangle(90, 45, 45)\n",
    "obj.check_property_right()\n",
    "\n",
    "obj = equilateral_triangle(60, 60, 60)\n",
    "obj.check_property_equilateral()"
   ]
  },
  {
   "cell_type": "markdown",
   "metadata": {},
   "source": [
    " "
   ]
  },
  {
   "cell_type": "markdown",
   "metadata": {},
   "source": [
    "**Question 12** \n",
    "\n",
    "Create a class isosceles_right_triangle which inherits from isosceles_triangle and right_triangle.\n",
    "<br>12.1 Define methods which check for their properties."
   ]
  },
  {
   "cell_type": "code",
   "execution_count": 19,
   "metadata": {},
   "outputs": [],
   "source": [
    "class isosceles_right_triangle(isosceles_triangle, right_triangle):\n",
    "    \n",
    "    def __init__ (self, angle1, angle2, angle3):\n",
    "        isosceles_triangle.__init__(self, angle1, angle2, angle3)\n",
    "        right_triangle.__init__(self, angle1, angle2, angle3)\n",
    "    \n"
   ]
  },
  {
   "cell_type": "code",
   "execution_count": 20,
   "metadata": {},
   "outputs": [
    {
     "name": "stdout",
     "output_type": "stream",
     "text": [
      "Triangle is not isosceles.\n",
      "Triangle is right-angled.\n"
     ]
    }
   ],
   "source": [
    "obj = isosceles_right_triangle(90, 60, 30)\n",
    "\n",
    "obj.check_property_isosceles()\n",
    "obj.check_property_right()"
   ]
  },
  {
   "cell_type": "code",
   "execution_count": null,
   "metadata": {},
   "outputs": [],
   "source": []
  }
 ],
 "metadata": {
  "kernelspec": {
   "display_name": "Python 3",
   "language": "python",
   "name": "python3"
  },
  "language_info": {
   "codemirror_mode": {
    "name": "ipython",
    "version": 3
   },
   "file_extension": ".py",
   "mimetype": "text/x-python",
   "name": "python",
   "nbconvert_exporter": "python",
   "pygments_lexer": "ipython3",
   "version": "3.8.5"
  }
 },
 "nbformat": 4,
 "nbformat_minor": 5
}
