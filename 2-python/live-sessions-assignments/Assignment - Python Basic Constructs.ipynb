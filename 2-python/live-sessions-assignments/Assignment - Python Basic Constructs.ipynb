{
 "cells": [
  {
   "cell_type": "markdown",
   "id": "225a26ea",
   "metadata": {},
   "source": [
    "**Question 1.** \n",
    "<br>Using Python script as a calculator, create the variables n, r, p and assign them values 10, 5, and 100 respectively. Then\n",
    "evaluate the following expression in the Python console.\n",
    "\n",
    "<center> 𝐴 = 𝑝 (1 + 𝑟/ 100) ^ n </center>"
   ]
  },
  {
   "cell_type": "code",
   "execution_count": 3,
   "id": "3fcff9be",
   "metadata": {},
   "outputs": [
    {
     "name": "stdout",
     "output_type": "stream",
     "text": [
      "162.8894626777442\n"
     ]
    }
   ],
   "source": [
    "n = 10\n",
    "r = 5\n",
    "p = 100\n",
    "\n",
    "A = p*(1+(r/100))**n\n",
    "\n",
    "print(A)"
   ]
  },
  {
   "cell_type": "markdown",
   "id": "fbadaff5",
   "metadata": {},
   "source": [
    "**Answer: b**"
   ]
  },
  {
   "cell_type": "markdown",
   "id": "1ac2af0f",
   "metadata": {},
   "source": [
    " \n",
    " "
   ]
  },
  {
   "cell_type": "markdown",
   "id": "32554378",
   "metadata": {},
   "source": [
    "**Question 2**\n",
    "<br>In a given string format operation, how will you print the given string.\n",
    "<br>A = 10\n",
    "<br>B = 20\n",
    "<br>Str = \"There are {} students in the class, with {} who play at least one sport.\""
   ]
  },
  {
   "cell_type": "code",
   "execution_count": 5,
   "id": "379d2c01",
   "metadata": {},
   "outputs": [
    {
     "name": "stdout",
     "output_type": "stream",
     "text": [
      "There are 20 students in the class, with 10 who play at least one sport.\n"
     ]
    }
   ],
   "source": [
    "a = 10\n",
    "b = 20\n",
    "\n",
    "string = \"There are {} students in the class, with {} who play at least one sport.\"\n",
    "print(string.format(b, a))"
   ]
  },
  {
   "cell_type": "markdown",
   "id": "6f540683",
   "metadata": {},
   "source": [
    "**Answer: c**"
   ]
  },
  {
   "cell_type": "markdown",
   "id": "e95c94bd",
   "metadata": {},
   "source": [
    " "
   ]
  },
  {
   "cell_type": "markdown",
   "id": "cc618acb",
   "metadata": {},
   "source": [
    "**Question 3**\n",
    "<br>In a given sample string, How do you print a double quoted string in between a regular string using the escape character?\n",
    "<br>Sample output = It goes without saying, “Time is Money”, and none can deny it."
   ]
  },
  {
   "cell_type": "code",
   "execution_count": 7,
   "id": "3bda17a1",
   "metadata": {},
   "outputs": [
    {
     "name": "stdout",
     "output_type": "stream",
     "text": [
      "It goes without saying, \"Time is Money\", and none can deny it.\n"
     ]
    }
   ],
   "source": [
    "print(\"It goes without saying, \\\"Time is Money\\\", and none can deny it.\")"
   ]
  },
  {
   "cell_type": "markdown",
   "id": "d9c38792",
   "metadata": {},
   "source": [
    "**Answer: a**"
   ]
  },
  {
   "cell_type": "markdown",
   "id": "41d1f2a2",
   "metadata": {},
   "source": [
    " "
   ]
  },
  {
   "cell_type": "markdown",
   "id": "b3bb5385",
   "metadata": {},
   "source": [
    "**Question 4**\n",
    "<br>What will be the output of the following code?\n",
    "<br>x = lambda a,b: a//b\n",
    "<br>x(10,3)"
   ]
  },
  {
   "cell_type": "code",
   "execution_count": 9,
   "id": "d9d2fda2",
   "metadata": {},
   "outputs": [
    {
     "data": {
      "text/plain": [
       "3"
      ]
     },
     "execution_count": 9,
     "metadata": {},
     "output_type": "execute_result"
    }
   ],
   "source": [
    "x = lambda a,b: a//b\n",
    "x(10,3)"
   ]
  },
  {
   "cell_type": "markdown",
   "id": "0d0dd3f5",
   "metadata": {},
   "source": [
    "**Answer: b**"
   ]
  },
  {
   "cell_type": "markdown",
   "id": "3a0f14d9",
   "metadata": {},
   "source": [
    " "
   ]
  },
  {
   "cell_type": "markdown",
   "id": "b74ad800",
   "metadata": {},
   "source": [
    "**Question 5**\n",
    "<br>What will be the output of the following code?\n",
    "<br>A = 10\n",
    "<br>B = 12\n",
    "<br>print(\"Smaller\") if A == B else print(\"Greater\") if A < B else print(\"True\")"
   ]
  },
  {
   "cell_type": "code",
   "execution_count": 10,
   "id": "b9aa3870",
   "metadata": {},
   "outputs": [
    {
     "name": "stdout",
     "output_type": "stream",
     "text": [
      "Greater\n"
     ]
    }
   ],
   "source": [
    "A = 10\n",
    "B = 12\n",
    "print(\"Smaller\") if A == B else print(\"Greater\") if A < B else print(\"True\")"
   ]
  },
  {
   "cell_type": "markdown",
   "id": "c6470c30",
   "metadata": {},
   "source": [
    "**Answer: c**"
   ]
  },
  {
   "cell_type": "markdown",
   "id": "8011fd58",
   "metadata": {},
   "source": [
    " "
   ]
  },
  {
   "cell_type": "markdown",
   "id": "d806cb0b",
   "metadata": {},
   "source": [
    "**Question 6**\n",
    "<br>What will be the output of the following code?"
   ]
  },
  {
   "cell_type": "markdown",
   "id": "974506bc",
   "metadata": {},
   "source": [
    "**Answer:**\n",
    "**<BR>c. NameError: name 'numpy' is not defined**"
   ]
  },
  {
   "cell_type": "markdown",
   "id": "9b531877",
   "metadata": {},
   "source": [
    " "
   ]
  },
  {
   "cell_type": "markdown",
   "id": "780eeb83",
   "metadata": {},
   "source": [
    "**Question 7**\n",
    "<br>Create a string called ‘string’ with the value as “Machine Learning”. Which code(s) is/are appropriate to slice the substring “Learn”?"
   ]
  },
  {
   "cell_type": "code",
   "execution_count": 17,
   "id": "ffff95e5",
   "metadata": {},
   "outputs": [
    {
     "data": {
      "text/plain": [
       "'Learn'"
      ]
     },
     "execution_count": 17,
     "metadata": {},
     "output_type": "execute_result"
    }
   ],
   "source": [
    "string = \"Machine Learning\"\n",
    "string[slice(8,13,1)]"
   ]
  },
  {
   "cell_type": "markdown",
   "id": "f3d20867",
   "metadata": {},
   "source": [
    "**Answer:** \n",
    "<br>_d. string[slice(8,13,1)]_"
   ]
  },
  {
   "cell_type": "markdown",
   "id": "2ad2a883",
   "metadata": {},
   "source": [
    " "
   ]
  },
  {
   "cell_type": "markdown",
   "id": "9243157d",
   "metadata": {},
   "source": [
    "**Question 8**\n",
    "<br>Create a sequence of numbers from 10 to 25 and increment by 4. What is the index of the value 18?"
   ]
  },
  {
   "cell_type": "code",
   "execution_count": 19,
   "id": "7db4fbb9",
   "metadata": {},
   "outputs": [
    {
     "data": {
      "text/plain": [
       "2"
      ]
     },
     "execution_count": 19,
     "metadata": {},
     "output_type": "execute_result"
    }
   ],
   "source": [
    "ls = []\n",
    "\n",
    "p1 = 10\n",
    "\n",
    "while p1 <= 25:\n",
    "    ls.append(p1)\n",
    "    p1 += 4\n",
    "\n",
    "ls.index(18)"
   ]
  },
  {
   "cell_type": "markdown",
   "id": "a958a964",
   "metadata": {},
   "source": [
    "**Answer:** <br>\n",
    "_b. 2_"
   ]
  },
  {
   "cell_type": "markdown",
   "id": "7bbacbaa",
   "metadata": {},
   "source": [
    " "
   ]
  },
  {
   "cell_type": "markdown",
   "id": "cc7c2d08",
   "metadata": {},
   "source": [
    "**Question 9**\n",
    "<br>Which of the following is true with respect to the below codes?"
   ]
  },
  {
   "cell_type": "markdown",
   "id": "72725049",
   "metadata": {},
   "source": [
    "**Answer:**<br>\n",
    "_a. num1 = num2_"
   ]
  },
  {
   "cell_type": "markdown",
   "id": "ddd5bb28",
   "metadata": {},
   "source": [
    " "
   ]
  },
  {
   "cell_type": "markdown",
   "id": "b6394f64",
   "metadata": {},
   "source": [
    "**Question 10**\n",
    "<br>A Python NameError exception is raised when: -"
   ]
  },
  {
   "cell_type": "markdown",
   "id": "cfa3214b",
   "metadata": {},
   "source": [
    "**Answer:**\n",
    "_a. Trying to access a variable which has not been defined_"
   ]
  },
  {
   "cell_type": "markdown",
   "id": "ee5dc5a4",
   "metadata": {},
   "source": [
    " "
   ]
  },
  {
   "cell_type": "markdown",
   "id": "86240d26",
   "metadata": {},
   "source": [
    "**Question 11**\n",
    "<br>What type of exception will be raised for the code given below?"
   ]
  },
  {
   "cell_type": "markdown",
   "id": "5e933699",
   "metadata": {},
   "source": [
    "**Answer:**<br>\n",
    "_c. ValueError_"
   ]
  },
  {
   "cell_type": "markdown",
   "id": "ca5f1be1",
   "metadata": {},
   "source": [
    " "
   ]
  },
  {
   "cell_type": "markdown",
   "id": "852b8f4e",
   "metadata": {},
   "source": [
    "**Question 12**\n",
    "<br>A FileNotFoundError exception is raised by operating system errors when: -"
   ]
  },
  {
   "cell_type": "markdown",
   "id": "f3b5b7bd",
   "metadata": {},
   "source": [
    "**Answer:**\n",
    "<br>_b. A file or directory is requested but does not exist in the working directory_"
   ]
  },
  {
   "cell_type": "markdown",
   "id": "ff338d1d",
   "metadata": {},
   "source": [
    " "
   ]
  },
  {
   "cell_type": "markdown",
   "id": "0ac41082",
   "metadata": {},
   "source": [
    "**Question 13**\n",
    "<br>Consider a variable Z. The value of Z is \"ID-5632\". Data type of Z is: -"
   ]
  },
  {
   "cell_type": "markdown",
   "id": "d7014d12",
   "metadata": {},
   "source": [
    "**Answer:**\n",
    "<br>_b. Character_"
   ]
  },
  {
   "cell_type": "markdown",
   "id": "6266b785",
   "metadata": {},
   "source": [
    " "
   ]
  },
  {
   "cell_type": "markdown",
   "id": "e0a02836",
   "metadata": {},
   "source": [
    "**Question 14**\n",
    "<br>Which of the following variable(s) are character data type?"
   ]
  },
  {
   "cell_type": "markdown",
   "id": "4ff20767",
   "metadata": {},
   "source": [
    "**Answer:**\n",
    "<br>_d. All of the above_"
   ]
  },
  {
   "cell_type": "markdown",
   "id": "2e58ddde",
   "metadata": {},
   "source": [
    " "
   ]
  },
  {
   "cell_type": "markdown",
   "id": "d721c240",
   "metadata": {},
   "source": [
    "**Question 15**\n",
    "<br>Choose the symbol/s that does not have the ability to convert any values to string?"
   ]
  },
  {
   "cell_type": "markdown",
   "id": "b75a427b",
   "metadata": {},
   "source": [
    "**Answer:**\n",
    "<br>_a. ( ) \n",
    "<br>c. {} \n",
    "<br>d. #_ "
   ]
  },
  {
   "cell_type": "markdown",
   "id": "2844f45d",
   "metadata": {},
   "source": [
    " "
   ]
  },
  {
   "cell_type": "markdown",
   "id": "654874cf",
   "metadata": {},
   "source": [
    "**Question 16**\n",
    "<br> Create a dictionary ‘Country’ that maps the following countries to their capitals respectively:\n",
    "\n",
    "Find 2 commands to replace “Marseilles” with “Paris” is:"
   ]
  },
  {
   "cell_type": "code",
   "execution_count": 25,
   "id": "cde109e3",
   "metadata": {},
   "outputs": [
    {
     "data": {
      "text/plain": [
       "{'India': 'Delhi',\n",
       " 'China': 'Beijing',\n",
       " 'Japan': 'Tokyo',\n",
       " 'Qatar': 'Doha',\n",
       " 'France': 'Marseilles'}"
      ]
     },
     "execution_count": 25,
     "metadata": {},
     "output_type": "execute_result"
    }
   ],
   "source": [
    "country = {\"India\":\"Delhi\", \"China\":\"Beijing\", \"Japan\":\"Tokyo\", \"Qatar\":\"Doha\", \"France\":\"Marseilles\"}\n",
    "\n",
    "country"
   ]
  },
  {
   "cell_type": "markdown",
   "id": "b8853a9b",
   "metadata": {},
   "source": [
    "**Answer:**"
   ]
  },
  {
   "cell_type": "code",
   "execution_count": 27,
   "id": "f970b755",
   "metadata": {},
   "outputs": [],
   "source": [
    "country['France'] = \"Paris\""
   ]
  },
  {
   "cell_type": "markdown",
   "id": "6f7ad0e9",
   "metadata": {},
   "source": [
    " "
   ]
  },
  {
   "cell_type": "markdown",
   "id": "93ccf3b7",
   "metadata": {},
   "source": [
    "**Question 17**\n",
    "<br>Create the tuples given below\n",
    "<br>tuple_1 = (1,5,6,7,8)\n",
    "<br>tuple_2 = (8,9,4)\n",
    "<br>Identify which of the following code does not work on a tuple."
   ]
  },
  {
   "cell_type": "code",
   "execution_count": 28,
   "id": "be00a17d",
   "metadata": {},
   "outputs": [],
   "source": [
    "tuple_1 = (1,5,6,7,8)\n",
    "tuple_2 = (8,9,4)"
   ]
  },
  {
   "cell_type": "markdown",
   "id": "2ea37ecd",
   "metadata": {},
   "source": [
    "**Answer:**\n",
    "_d. tuple_1[3] = 45_"
   ]
  },
  {
   "cell_type": "markdown",
   "id": "cbda696a",
   "metadata": {},
   "source": [
    " "
   ]
  },
  {
   "cell_type": "markdown",
   "id": "7c668625",
   "metadata": {},
   "source": [
    "**Question 18**\n",
    "<br>How many elements in the following data structure?"
   ]
  },
  {
   "cell_type": "code",
   "execution_count": 34,
   "id": "a341abc3",
   "metadata": {},
   "outputs": [
    {
     "data": {
      "text/plain": [
       "{1, 2, 3, 4, 5, 6}"
      ]
     },
     "execution_count": 34,
     "metadata": {},
     "output_type": "execute_result"
    }
   ],
   "source": [
    "S = {1,2,3,4,4,4,5,6}\n",
    "S"
   ]
  },
  {
   "cell_type": "markdown",
   "id": "6255d784",
   "metadata": {},
   "source": [
    "**Answer:** 6 elements"
   ]
  },
  {
   "cell_type": "markdown",
   "id": "ca281f9d",
   "metadata": {},
   "source": [
    " "
   ]
  },
  {
   "cell_type": "markdown",
   "id": "194650e0",
   "metadata": {},
   "source": [
    "**Question 19**\n",
    "<br>Write a function which finds all pythagorean triplets of triangles whose sides are no greater than a natural number N."
   ]
  },
  {
   "cell_type": "code",
   "execution_count": 49,
   "id": "23ff7d6a",
   "metadata": {},
   "outputs": [],
   "source": [
    "\n",
    "def pythagorean_triplets(n):\n",
    "    ls = []\n",
    "    for a in range(1, n+1):\n",
    "        for b in range(1, n+1):\n",
    "            for c in range(1, n+1):\n",
    "                if a**2 + b**2 == c**2:\n",
    "                    ls.append([a, b, c])\n",
    "                    \n",
    "    return ls\n"
   ]
  },
  {
   "cell_type": "code",
   "execution_count": 50,
   "id": "0a87340e",
   "metadata": {},
   "outputs": [
    {
     "data": {
      "text/plain": [
       "[[3, 4, 5], [4, 3, 5], [6, 8, 10], [8, 6, 10]]"
      ]
     },
     "execution_count": 50,
     "metadata": {},
     "output_type": "execute_result"
    }
   ],
   "source": [
    "pythagorean_triplets(10)"
   ]
  }
 ],
 "metadata": {
  "kernelspec": {
   "display_name": "Python 3 (ipykernel)",
   "language": "python",
   "name": "python3"
  },
  "language_info": {
   "codemirror_mode": {
    "name": "ipython",
    "version": 3
   },
   "file_extension": ".py",
   "mimetype": "text/x-python",
   "name": "python",
   "nbconvert_exporter": "python",
   "pygments_lexer": "ipython3",
   "version": "3.10.0"
  }
 },
 "nbformat": 4,
 "nbformat_minor": 5
}
