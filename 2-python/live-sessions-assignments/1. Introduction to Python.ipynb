{
 "cells": [
  {
   "cell_type": "markdown",
   "id": "108d91a2",
   "metadata": {},
   "source": [
    "# What is Python\n",
    "Python is a high-level, interpreted programming language known for its simplicity, readability, and versatility. It was created by Guido van Rossum and first released in 1991. Python's design philosophy emphasizes code readability and a clear syntax, making it easy for developers to express their ideas in a concise and straightforward manner.\n",
    "\n",
    "Key features of Python include:\n",
    "\n",
    "1. **Easy-to-learn:** Python's syntax is designed to be intuitive and easy to pick up, making it an ideal language for beginners and experienced developers alike.\n",
    "\n",
    "2. **Interpreted:** Python code is executed line-by-line by the Python interpreter, rather than being compiled into machine code like languages such as C or C++. This allows for rapid development and prototyping.\n",
    "\n",
    "3. **High-level:** Python abstracts many low-level details, allowing developers to focus on problem-solving rather than worrying about memory management or other system-specific intricacies.\n",
    "\n",
    "4. **Cross-platform:** Python is compatible with various operating systems, including Windows, macOS, and Linux, enabling developers to write code that can run on different platforms without modification.\n",
    "\n",
    "5. **Large standard library:** Python comes with an extensive standard library that provides pre-built modules and functions for a wide range of tasks, such as working with files, networking, and data manipulation.\n",
    "\n",
    "6. **Third-party packages:** Python has a vast ecosystem of third-party libraries and packages that extend its functionality even further, covering areas like web development, data science, machine learning, artificial intelligence, and more.\n",
    "\n",
    "7. **Object-oriented:** Python supports object-oriented programming (OOP) principles, allowing developers to write reusable and structured code.\n",
    "\n",
    "8. **Dynamic typing:** Python is dynamically typed, meaning that variable types are determined at runtime. This provides flexibility but also requires careful attention to variable type handling.\n",
    "\n",
    "Python's popularity has grown significantly over the years due to its versatility and extensive community support. It is used in various domains, including web development, scientific computing, data analysis, automation, game development, and system administration, to name just a few. Python's widespread adoption and extensive resources make it a powerful language for a wide range of applications.\n"
   ]
  },
  {
   "cell_type": "code",
   "execution_count": null,
   "id": "73ac1df0",
   "metadata": {},
   "outputs": [],
   "source": []
  },
  {
   "cell_type": "code",
   "execution_count": null,
   "id": "f9faa8db",
   "metadata": {},
   "outputs": [],
   "source": []
  },
  {
   "cell_type": "code",
   "execution_count": 12,
   "id": "21b24f84",
   "metadata": {},
   "outputs": [],
   "source": [
    "num = 10 "
   ]
  },
  {
   "cell_type": "code",
   "execution_count": 15,
   "id": "e9f24f02",
   "metadata": {},
   "outputs": [],
   "source": [
    "num = 10.5"
   ]
  },
  {
   "cell_type": "code",
   "execution_count": 16,
   "id": "34c063fa",
   "metadata": {},
   "outputs": [],
   "source": [
    "num = 'python'"
   ]
  },
  {
   "cell_type": "markdown",
   "id": "3c8d5e37",
   "metadata": {},
   "source": [
    "#### Compiler Vs Interpreter\n",
    "\n",
    "- compiler would translate the whole code togethr, whereas interpreters translate the code on the fly and line by line  \n",
    " \n",
    "- Interpreted languages are more portable than the complier based languages\n",
    "\n",
    "- compiler reads the whole code and creates an executable file which is error free \n"
   ]
  },
  {
   "cell_type": "code",
   "execution_count": 24,
   "id": "d18ecb83",
   "metadata": {},
   "outputs": [],
   "source": [
    "language = 'python'"
   ]
  },
  {
   "cell_type": "code",
   "execution_count": 25,
   "id": "db0ac176",
   "metadata": {},
   "outputs": [
    {
     "name": "stdout",
     "output_type": "stream",
     "text": [
      "python\n"
     ]
    }
   ],
   "source": [
    "print(language)"
   ]
  },
  {
   "cell_type": "code",
   "execution_count": null,
   "id": "1f41e354",
   "metadata": {},
   "outputs": [],
   "source": []
  },
  {
   "cell_type": "markdown",
   "id": "d2c9f35c",
   "metadata": {},
   "source": [
    "## Naming Conventions"
   ]
  },
  {
   "cell_type": "markdown",
   "id": "c3c80a6f",
   "metadata": {},
   "source": [
    "## Naming Conventions\n",
    "\n",
    "\n",
    "1. Variables:\n",
    "A variable is a named container used to store data in memory. In Python, you don't need to explicitly declare the data type of a variable. You can assign values of any type to a variable.\n",
    "\n",
    "**Naming Convention for Variables:**\n",
    "\n",
    "- Use lowercase letters.\n",
    "- Separate words with underscores (_)."
   ]
  },
  {
   "cell_type": "code",
   "execution_count": 22,
   "id": "cf6a9950",
   "metadata": {},
   "outputs": [],
   "source": [
    "# Correct naming for variables\n",
    "first_name = \"Purvi\"\n",
    "last_name = \"Jain\"\n",
    "email = \"intellipath2567@gmail.com\""
   ]
  },
  {
   "cell_type": "code",
   "execution_count": 28,
   "id": "f13f73ee",
   "metadata": {},
   "outputs": [
    {
     "name": "stdout",
     "output_type": "stream",
     "text": [
      "email : intellipath2567@gmail.com\n"
     ]
    }
   ],
   "source": [
    "print(\"email : \" + email)"
   ]
  },
  {
   "cell_type": "markdown",
   "id": "b4efb68c",
   "metadata": {},
   "source": [
    "2. Functions:\n",
    "A function is a block of organized, reusable code that performs a specific task. It takes input (arguments), processes it, and returns an output.\n",
    "\n",
    "**Naming Convention for Functions:**\n",
    "\n",
    "- Use lowercase letters.\n",
    "- Separate words with underscores (_)."
   ]
  },
  {
   "cell_type": "code",
   "execution_count": 38,
   "id": "24af3799",
   "metadata": {},
   "outputs": [],
   "source": [
    "def calculate_area(length, width):\n",
    "    area = length * width\n",
    "    return area"
   ]
  },
  {
   "cell_type": "code",
   "execution_count": 34,
   "id": "928a01af",
   "metadata": {},
   "outputs": [],
   "source": [
    "def Calculate_area(length, width):\n",
    "    return 100"
   ]
  },
  {
   "cell_type": "code",
   "execution_count": 35,
   "id": "e546f12e",
   "metadata": {},
   "outputs": [],
   "source": [
    "import math"
   ]
  },
  {
   "cell_type": "code",
   "execution_count": 39,
   "id": "15743672",
   "metadata": {},
   "outputs": [
    {
     "data": {
      "text/plain": [
       "50"
      ]
     },
     "execution_count": 39,
     "metadata": {},
     "output_type": "execute_result"
    }
   ],
   "source": [
    "calculate_area(5,10)"
   ]
  },
  {
   "cell_type": "markdown",
   "id": "886d0fb7",
   "metadata": {},
   "source": [
    "3. Constants:\n",
    "A constant is a variable whose value remains the same throughout the program's execution. In Python, constants are usually represented using uppercase letters.\n",
    "\n",
    "**Naming Convention for Constants:**\n",
    "- Use all uppercase letters.\n",
    "- Separate words with underscores (_).\n"
   ]
  },
  {
   "cell_type": "code",
   "execution_count": 40,
   "id": "1eab2c9c",
   "metadata": {},
   "outputs": [],
   "source": [
    "# Correct naming for constants\n",
    "PI = 3.14159\n",
    "GRAVITY_ACCELERATION = 9.81"
   ]
  },
  {
   "cell_type": "markdown",
   "id": "ebb4df84",
   "metadata": {},
   "source": [
    "4. Classes:\n",
    "A class is a blueprint for creating objects that encapsulate data and behavior. It defines the properties and methods that all objects of the class will have.\n",
    "\n",
    "\n",
    "\n",
    "**Naming Convention for Classes:** \n",
    "\n",
    "    - Use CamelCase (capitalize the first letter of each word, including the first word).\n",
    "    - Avoid underscores between words."
   ]
  },
  {
   "cell_type": "code",
   "execution_count": 41,
   "id": "16b9e266",
   "metadata": {},
   "outputs": [],
   "source": [
    "# Correct naming for classes\n",
    "class MyCircle:\n",
    "    def __init__(self, radius):\n",
    "        self.radius = radius\n",
    "\n",
    "    def calculate_circumference(self):\n",
    "        return 2 * PI * self.radius\n",
    "    \n",
    "    def calculate_area(self):\n",
    "        return PI * self.radius**2"
   ]
  },
  {
   "cell_type": "markdown",
   "id": "70a83421",
   "metadata": {},
   "source": [
    "5. Modules:\n",
    "A module is a file containing Python definitions and statements. It allows you to organize related code and reuse it across multiple programs.\n",
    "\n",
    "**Naming Convention for Modules:**\n",
    "\n",
    "    - Use lowercase letters.\n",
    "    - Separate words with underscores (_)."
   ]
  },
  {
   "cell_type": "code",
   "execution_count": 42,
   "id": "345bcf84",
   "metadata": {},
   "outputs": [],
   "source": [
    "# Example module - my_module.py\n",
    "def greet(name):\n",
    "    return f\"Hello, {name}!\""
   ]
  },
  {
   "cell_type": "markdown",
   "id": "a3418888",
   "metadata": {},
   "source": [
    "6. Packages:\n",
    "A package is a collection of Python modules organized in directories. It helps in organizing and distributing Python code efficiently.\n",
    "\n",
    "\n",
    "**Naming Convention for Packages:**\n",
    "- Use lowercase letters.\n",
    "- Avoid underscores between words.\n",
    "- Package names should be short, lowercase, and unique."
   ]
  },
  {
   "cell_type": "code",
   "execution_count": null,
   "id": "9d15efe8",
   "metadata": {},
   "outputs": [],
   "source": [
    "# Example package structure\n",
    "my_package/\n",
    "    __init__.py\n",
    "    module1.py\n",
    "    module2.py"
   ]
  },
  {
   "cell_type": "markdown",
   "id": "566fda54",
   "metadata": {},
   "source": [
    "7. Keywords:\n",
    "Keywords are reserved words in Python that have special meanings and cannot be used as identifiers (variable names, function names, etc.)."
   ]
  },
  {
   "cell_type": "code",
   "execution_count": 43,
   "id": "a35ae538",
   "metadata": {},
   "outputs": [
    {
     "name": "stdout",
     "output_type": "stream",
     "text": [
      "['False', 'None', 'True', 'and', 'as', 'assert', 'async', 'await', 'break', 'class', 'continue', 'def', 'del', 'elif', 'else', 'except', 'finally', 'for', 'from', 'global', 'if', 'import', 'in', 'is', 'lambda', 'nonlocal', 'not', 'or', 'pass', 'raise', 'return', 'try', 'while', 'with', 'yield']\n"
     ]
    }
   ],
   "source": [
    "# Code example for listing Python keywords\n",
    "import keyword\n",
    "\n",
    "print(keyword.kwlist)"
   ]
  },
  {
   "cell_type": "code",
   "execution_count": null,
   "id": "545a9a74",
   "metadata": {},
   "outputs": [],
   "source": []
  },
  {
   "cell_type": "markdown",
   "id": "4c4ebfb7",
   "metadata": {},
   "source": [
    "###  Variables and Data Types\n",
    " \n",
    "Variables are used to store data in Python. Python is a dynamically typed language, meaning you don't need to specify the data type explicitly."
   ]
  },
  {
   "cell_type": "code",
   "execution_count": 2,
   "id": "c9f5e732",
   "metadata": {},
   "outputs": [],
   "source": [
    "# Code examples for variables and data types\n",
    "name = \"Alice\"   # String\n",
    "age = 25         # Integer\n",
    "height = 1.75    # Float\n",
    "is_student = True  # Boolean\n"
   ]
  },
  {
   "cell_type": "code",
   "execution_count": 44,
   "id": "6c257c46",
   "metadata": {},
   "outputs": [
    {
     "name": "stdout",
     "output_type": "stream",
     "text": [
      "Alice\n"
     ]
    }
   ],
   "source": [
    "print(name)"
   ]
  },
  {
   "cell_type": "code",
   "execution_count": 48,
   "id": "564e456d",
   "metadata": {},
   "outputs": [],
   "source": [
    "name = '12345'"
   ]
  },
  {
   "cell_type": "code",
   "execution_count": 49,
   "id": "b9d3c53e",
   "metadata": {},
   "outputs": [
    {
     "name": "stdout",
     "output_type": "stream",
     "text": [
      "12345\n"
     ]
    }
   ],
   "source": [
    "print(name)"
   ]
  },
  {
   "cell_type": "code",
   "execution_count": 50,
   "id": "17568e24",
   "metadata": {},
   "outputs": [],
   "source": [
    "name,age,height = 'pooja',12,1.75"
   ]
  },
  {
   "cell_type": "code",
   "execution_count": 53,
   "id": "d74c462c",
   "metadata": {},
   "outputs": [
    {
     "name": "stdout",
     "output_type": "stream",
     "text": [
      "pooja 12 1.75\n"
     ]
    }
   ],
   "source": [
    "print(name,age,height)"
   ]
  },
  {
   "cell_type": "code",
   "execution_count": 57,
   "id": "3117daa4",
   "metadata": {},
   "outputs": [
    {
     "name": "stdout",
     "output_type": "stream",
     "text": [
      "6\n"
     ]
    }
   ],
   "source": [
    "x = 1\n",
    "x = x + 5 \n",
    "print(x)"
   ]
  },
  {
   "cell_type": "markdown",
   "id": "7334b2db",
   "metadata": {},
   "source": [
    "### Operators "
   ]
  },
  {
   "cell_type": "code",
   "execution_count": null,
   "id": "4ce834f4",
   "metadata": {},
   "outputs": [],
   "source": []
  },
  {
   "cell_type": "code",
   "execution_count": null,
   "id": "78eaa690",
   "metadata": {},
   "outputs": [],
   "source": []
  },
  {
   "cell_type": "code",
   "execution_count": null,
   "id": "dda03c19",
   "metadata": {},
   "outputs": [],
   "source": []
  },
  {
   "cell_type": "markdown",
   "id": "f736ade5",
   "metadata": {},
   "source": [
    "### Creating a function to calculate area"
   ]
  },
  {
   "cell_type": "code",
   "execution_count": 58,
   "id": "3c3506c8",
   "metadata": {},
   "outputs": [],
   "source": [
    "class Rectangle:\n",
    "    def __init__(self,width,length):\n",
    "        self.width = width\n",
    "        self.length = length\n",
    "    \n",
    "    def area(self):\n",
    "        return self.width * self.length\n",
    "    \n",
    "    def perimeter(self):\n",
    "        return 2 * (self.width + self.length) # perimeter = 2(Len+width)\n"
   ]
  },
  {
   "cell_type": "code",
   "execution_count": null,
   "id": "9be38c5c",
   "metadata": {},
   "outputs": [],
   "source": [
    "x,y,z = 1,2,3"
   ]
  },
  {
   "cell_type": "code",
   "execution_count": 62,
   "id": "ad0c2e82",
   "metadata": {},
   "outputs": [
    {
     "name": "stdout",
     "output_type": "stream",
     "text": [
      "Rectangle 1 - Area =  15\n",
      "Rectangle 2 - Area =  200\n",
      "Rectangle 1 - Perimeter =  16\n",
      "Rectangle 2 - Perimeter =  60\n"
     ]
    }
   ],
   "source": [
    "rectangle1 = Rectangle(5, 3)\n",
    "rectangle2 = Rectangle(10, 20)\n",
    "\n",
    "print(\"Rectangle 1 - Area = \",rectangle1.area())\n",
    "print(\"Rectangle 2 - Area = \",rectangle2.area())\n",
    "\n",
    "print(\"Rectangle 1 - Perimeter = \",rectangle1.perimeter())\n",
    "print(\"Rectangle 2 - Perimeter = \",rectangle2.perimeter())\n"
   ]
  },
  {
   "cell_type": "code",
   "execution_count": 65,
   "id": "6187bfc8",
   "metadata": {},
   "outputs": [
    {
     "data": {
      "text/plain": [
       "200"
      ]
     },
     "execution_count": 65,
     "metadata": {},
     "output_type": "execute_result"
    }
   ],
   "source": [
    "rectangle1.area()\n",
    "rectangle2.area()"
   ]
  },
  {
   "cell_type": "code",
   "execution_count": null,
   "id": "da382224",
   "metadata": {},
   "outputs": [],
   "source": []
  }
 ],
 "metadata": {
  "kernelspec": {
   "display_name": "Python 3 (ipykernel)",
   "language": "python",
   "name": "python3"
  },
  "language_info": {
   "codemirror_mode": {
    "name": "ipython",
    "version": 3
   },
   "file_extension": ".py",
   "mimetype": "text/x-python",
   "name": "python",
   "nbconvert_exporter": "python",
   "pygments_lexer": "ipython3",
   "version": "3.11.3"
  }
 },
 "nbformat": 4,
 "nbformat_minor": 5
}
